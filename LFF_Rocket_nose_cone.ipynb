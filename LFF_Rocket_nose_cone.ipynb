{
  "cells": [
    {
      "cell_type": "markdown",
      "metadata": {
        "id": "view-in-github",
        "colab_type": "text"
      },
      "source": [
        "<a href=\"https://colab.research.google.com/github/shuvayanb/LFF-for-design-and-optimisation/blob/main/Newtonian_3D_body.ipynb\" target=\"_parent\"><img src=\"https://colab.research.google.com/assets/colab-badge.svg\" alt=\"Open In Colab\"/></a>"
      ]
    },
    {
      "cell_type": "markdown",
      "id": "a19b5d52",
      "metadata": {
        "id": "a19b5d52"
      },
      "source": [
        "<font size=\"6\">LFF: Rocket nose cone</font>\n",
        "\n",
        "This Jupyter Notebook is a guiding demonstration of how simple algebraic equations based on local-inclination approaches can be cast into a low-fidelity framework (LFF) for computing pressure acting on a body in high-speed regime. Although approximate, these methods enable quick estimation of pressure forces acting on the body which is very cost-effective, especially for initial design phase. At the end of this notebook you will learn the following:\n",
        "\n",
        "1. Read a unstructured surface mesh generated using [Gmsh](https://gmsh.info/)\n",
        "2. Implement Newtonian theory on every mesh element to compute local pressure\n",
        "3. Visualise the flowfield using [Paraview](https://www.paraview.org/)"
      ]
    },
    {
      "cell_type": "code",
      "execution_count": null,
      "id": "a624e952",
      "metadata": {
        "id": "a624e952"
      },
      "outputs": [],
      "source": [
        "import numpy as np\n",
        "import math\n",
        "import itertools\n",
        "from itertools import islice"
      ]
    },
    {
      "cell_type": "markdown",
      "id": "0abcef1c",
      "metadata": {
        "id": "0abcef1c"
      },
      "source": [
        "![](https://raw.githubusercontent.com/shuvayanb/files_folders/main/nose_cone_images.png)"
      ]
    },
    {
      "cell_type": "markdown",
      "id": "7fb8a1e5",
      "metadata": {
        "id": "7fb8a1e5"
      },
      "source": [
        "![](https://raw.githubusercontent.com/shuvayanb/files_folders/main/nose_cone_cell.png)"
      ]
    },
    {
      "cell_type": "markdown",
      "id": "753ad184",
      "metadata": {
        "id": "753ad184"
      },
      "source": [
        "Newtonian theory is a local inclination method, *i.e*., local deflection angle $\\theta$. According to this method, the pressure coefficient $C_p$ acting on a body at high-speed regime ($M_\\mathrm{\\infty}$>>1) depends on $\\theta$, as:\n",
        "\n",
        "$$ C_p = C_{p, max} \\ \\mathrm{sin}^2 \\theta $$\n",
        "\n",
        "In the Fig. above, the 3D object of interest can be represented using surface mesh or polygons. In this case, open source mesh generator Gmsh was used to obtain the surface triangulation for an arbitrary body. Each cell (or triangle) has in this case, 3 faces (or edges) with face normals $\\textbf{n}_f$. The cell outward normal is indicated by $\\textbf{n}_c$. \n",
        "\n",
        "The angle that the freestream velocity $V_\\mathbf{\\infty}$ makes with the local tangent plane at the $i^{th}$ cell is the local deflection angle $\\theta_i$. We will first start by reading the nodes and element data from the mesh file. "
      ]
    },
    {
      "cell_type": "code",
      "execution_count": null,
      "id": "62ab4eef",
      "metadata": {
        "scrolled": true,
        "id": "62ab4eef"
      },
      "outputs": [],
      "source": [
        "# Read number of nodes and elements from the unstructured grid data\n",
        "\n",
        "lookup1 = '$Nodes'\n",
        "lookup2 = '$EndNodes'\n",
        "lookup3 = '$Elements'\n",
        "lookup4 = '$EndElements'\n",
        "\n",
        "file = 'body.txt'\n",
        "\n",
        "with open(file) as myFile:\n",
        "    for num, line in enumerate(myFile, 1):\n",
        "        if lookup1 in line:\n",
        "            nodes_start = num + 1\n",
        "            Nodes = next(myFile)\n",
        "        if lookup2 in line:\n",
        "            nodes_end = num\n",
        "        if lookup3 in line:\n",
        "            ele_start = num + 1\n",
        "            Elements = next(myFile)       \n",
        "        if lookup4 in line:\n",
        "            ele_end = num\n",
        "            \n",
        "\n",
        "with open(file) as f_input:\n",
        "    ndata = np.loadtxt(itertools.islice(f_input, nodes_start, nodes_end), delimiter=' ', skiprows=0)\n",
        "\n",
        "nodes = ndata[:,1:4]\n",
        "#print(nodes.shape)\n",
        "    \n",
        "ele_col = []\n",
        "counter = 0\n",
        "\n",
        "with open(file) as myFile:\n",
        "    for num, line in enumerate(myFile, 1):\n",
        "        if num>ele_start+1 and num<=ele_end+1:\n",
        "            var = line.split(\" \")\n",
        "            if int(var[1])!=15 and int(var[1])!=1: # 15 is element type with 1 node point and 1 is element type with 2node line\n",
        "                ele_col.append([int(var[5]),int(var[6]),int(var[7])])\n",
        "                counter+= 1\n",
        "\n",
        "\n",
        "elements = np.reshape(ele_col,(counter, 3))\n"
      ]
    },
    {
      "cell_type": "markdown",
      "id": "bfd76b4d",
      "metadata": {
        "id": "bfd76b4d"
      },
      "source": [
        "<img src=\"https://raw.githubusercontent.com/shuvayanb/files_folders/main/cross_product.png\" width=\"200\"/>\n",
        "\n",
        "Once the mesh file is loaded, we will start reading the geometric information in terms of node (or triangle verticex) coordinates, node indices forming a triangle. The second part is also crucial given that we will use this information to perform cell area-weighted averaging to obtain the corresponding interpolated pressure value at the nodes from the cells. \n",
        "\n",
        "From the image above, for any arbitrary element (or triangle) we calculate the face normals $\\mathbf{n_1}$, $\\mathbf{n_2}$ and $\\mathbf{n_3}$ by taking the cross-product of any two of the edge vectors $\\mathbf{e_1}$, $\\mathbf{e_2}$. We then compute the unit normal vector at a face $i$ as \n",
        "\n",
        "$$\\mathbf{n_{c, i}} =  \\frac{\\mathbf{n_i}}{\\sqrt{n_1^2 + n_2^2 + n_3^2}}$$"
      ]
    },
    {
      "cell_type": "code",
      "execution_count": null,
      "id": "6a017db3",
      "metadata": {
        "id": "6a017db3"
      },
      "outputs": [],
      "source": [
        "node_x = []\n",
        "node_y = []\n",
        "node_z = []\n",
        "\n",
        "for i in range(len(nodes)):\n",
        "\n",
        "    node_x.append(nodes[i,0])\n",
        "    node_y.append(nodes[i,1])\n",
        "    node_z.append(nodes[i,2])\n",
        "    \n",
        "\n",
        "vertex1 = np.zeros((len(elements),3))\n",
        "vertex2 = np.zeros((len(elements),3))\n",
        "vertex3 = np.zeros((len(elements),3))\n",
        "\n",
        "for i in range(len(elements)):\n",
        "\n",
        "    vertex1[i] = node_x[elements[i,0]-1],node_y[elements[i,0]-1],node_z[elements[i,0]-1] # triangle vertices\n",
        "    vertex2[i] = node_x[elements[i,1]-1],node_y[elements[i,1]-1],node_z[elements[i,1]-1] # (-1) as the present indexing starts at 2\n",
        "    vertex3[i] = node_x[elements[i,2]-1],node_y[elements[i,2]-1],node_z[elements[i,2]-1]\n",
        "    \n",
        "cell_cent = (vertex1+vertex2+vertex3)/3.0 # cell centroids\n",
        "\n",
        "# arbitrary point\n",
        "\n",
        "q = np.asarray(nodes.flatten())  \n",
        "\n",
        "x_arb = 0.0\n",
        "y_arb = 0.0\n",
        "z_arb = 0.0\n",
        "\n",
        "for i in range(0,int(Nodes),3):\n",
        "    x_arb = x_arb + q[i];\n",
        "    y_arb = y_arb + q[i+1];\n",
        "    z_arb = z_arb + q[i+2];\n",
        "\n",
        "x_arb = x_arb/len(nodes)\n",
        "y_arb = x_arb/len(nodes)\n",
        "z_arb = x_arb/len(nodes)\n",
        "\n",
        "\n",
        "# edge vector for cross product\n",
        "\n",
        "cell_edge_e0 = vertex2-vertex1\n",
        "cell_edge_e1 = vertex3-vertex1\n",
        "\n",
        "face_nor = 0.5*np.cross(cell_edge_e0,cell_edge_e1) # face normals from cross-product\n",
        "\n",
        "nf1 = []\n",
        "nf2 = []\n",
        "nf3 = []\n",
        "\n",
        "# dot product with arb vector\n",
        "\n",
        "for i in range(len(elements)):\n",
        " \n",
        "    nf1.append(face_nor[i,0])\n",
        "    nf2.append(face_nor[i,1])\n",
        "    nf3.append(face_nor[i,2])\n",
        "\n",
        "    vecx = (x_arb - cell_cent[i,0]);\n",
        "    vecy = (y_arb - cell_cent[i,1]);\n",
        "    vecz = (z_arb - cell_cent[i,2]);\n",
        "    \n",
        "    temp = vecx*nf1[i] + vecy*nf2[i] + vecz*nf3[i]\n",
        "    \n",
        "    if temp<0: # to ensure all normals point either outward or inwards\n",
        "        nf1[i] = -1* nf1[i]\n",
        "        nf2[i] = -1* nf2[i]\n",
        "        nf3[i] = -1* nf3[i]\n",
        "        \n",
        "    face_nor[i] = nf1[i], nf2[i], nf3[i]\n",
        "    \n",
        "face_ar = np.sqrt(np.sum(face_nor**2,axis=1))        # area of each triangle\n",
        "\n",
        "nc = face_nor/face_ar[:,np.newaxis]        # Face unit outward normal\n"
      ]
    },
    {
      "cell_type": "markdown",
      "id": "2f8ed1d6",
      "metadata": {
        "id": "2f8ed1d6"
      },
      "source": [
        "We will make some assumptions about the incoming flow while sticking to the high-speed flow regime, specifially hypersonic. \n",
        "\n",
        "The local inclination angle $\\theta$ is obtained as:\n",
        "\n",
        "$$ \\theta = cos^{-1} \\frac{\\mathbf{n_c V}}{|n_c V|} $$\n",
        "\n",
        "According to the modified Newtonian theory, the pressure acting on a body at high-speed regime can be computed as:\n",
        "\n",
        "$$ C_p = C_{p, max} \\ \\mathrm{sin}^2 \\theta $$\n",
        "\n",
        "where, $C_{p, max}$ is evaluated as,\n",
        "\n",
        "$$ C_{p, max} = \\frac{2}{\\gamma M_{\\infty}^2} \\Big \\{ \\Big [ \\frac{(\\gamma+1)^2 M_{\\infty}^2}{4\\gamma M_{\\infty}^2 - 2(\\gamma-1)} \\Big]^{\\frac{\\gamma}{\\gamma-1}} \\Big [ \\frac{ 1-\\gamma + 2 \\gamma M_{\\infty}^2}{\\gamma + 1} \\Big ] - 1 \\Big \\} $$\n",
        "\n",
        "where, $M_{\\infty}$ is the freestream Mach number and $\\gamma$ is the ratio of specific heats. The static pressure is related to pressure coefficient $C_p$ as:\n",
        "\n",
        "$$C_p = \\frac{p - p_{\\infty}}{\\frac{1}{2} \\gamma p_{\\infty} M_{\\infty}^2 }$$"
      ]
    },
    {
      "cell_type": "code",
      "execution_count": null,
      "id": "49bfae7a",
      "metadata": {
        "id": "49bfae7a"
      },
      "outputs": [],
      "source": [
        "gamma = 1.4           # ratio of specific heats\n",
        "p_inf = 100           # freestream static pressure\n",
        "M_inf = 7.0           # freestream Mach number\n",
        "R = 287.0             # Gas constant\n",
        "T_inf = 70.0          # freestream static temperature\n",
        "cross_area = 0.00383  # base area\n",
        "\n",
        "V_inf = M_inf*np.sqrt(gamma*R*T_inf);\n",
        "vx = V_inf;\n",
        "vy = 0.0\n",
        "vz = 0.0\n",
        "\n",
        "theta = np.zeros((len(elements),1))\n",
        "\n",
        "for i in range(len(elements)):\n",
        "\n",
        "    dot = ((vx*nc[i,0]) + (vy*nc[i,1]) + (vz*nc[i,2]));\n",
        "    mod = np.sqrt(pow(vx,2) + pow(vy,2) + pow(vz,2)) * np.sqrt(pow(nc[i,0],2) + pow(nc[i,1],2) + pow(nc[i,2],2))\n",
        "    \n",
        "    theta[i] = (math.acos(dot/mod)*(180.0/np.pi))\n",
        "    \n",
        "constant1 = (pow((pow(gamma+1,2)*pow(M_inf,2))/((4*gamma*pow(M_inf,2))-(2*gamma-2)),(gamma/(gamma-1))) * ((1-gamma+(2*gamma*pow(M_inf,2)))/(gamma+1)));\n",
        "constant2 = (gamma/2)*pow(M_inf,2);\n",
        "CPmax = (constant1-1)/constant2\n"
      ]
    },
    {
      "cell_type": "code",
      "execution_count": null,
      "id": "9493cea4",
      "metadata": {
        "id": "9493cea4"
      },
      "outputs": [],
      "source": [
        "drag = 0.0\n",
        "lift = 0.0\n",
        "cross_force = 0.0\n",
        "\n",
        "fx = np.zeros((len(elements),1))\n",
        "fy = np.zeros((len(elements),1))\n",
        "fz = np.zeros((len(elements),1))\n",
        "cp = np.zeros((len(elements),1))\n",
        "pr = np.zeros((len(elements),1))\n",
        "\n",
        "for i in range(len(elements)):\n",
        "    \n",
        "    if theta[i]>90.0:\n",
        "\n",
        "        cp[i] = 0;\n",
        "\n",
        "        pr[i] = 0\n",
        "        \n",
        "    if theta[i]<90.0:\n",
        "        \n",
        "        phi = 90 - theta[i];\n",
        "        rad = ((phi)*(np.pi/180.0));\n",
        "        \n",
        "        cp[i] = CPmax*pow(np.sin(rad),2);\n",
        "\n",
        "        pr[i] = (((0.5)*(gamma)*(p_inf)*(pow(M_inf,2)))*(cp[i]) + (p_inf));\n",
        "                \n",
        "\n",
        "    fx[i] = (pr[i]*face_ar[i]*nc[i,0]);\n",
        "    fy[i] = (pr[i]*face_ar[i]*nc[i,1]);\n",
        "    fz[i] = (pr[i]*face_ar[i]*nc[i,2]);\n",
        "\n",
        "    drag = drag + fx[i];\n",
        "    lift = lift + fy[i];\n",
        "    cross_force = cross_force + fz[i]\n",
        "\n",
        "        \n",
        "cd = abs(drag/(0.5*pow(M_inf,2)*gamma*p_inf*cross_area))\n",
        "cl = abs(lift/(0.5*pow(M_inf,2)*gamma*p_inf*cross_area))\n",
        "cs = abs(cross_force/(0.5*pow(M_inf,2)*gamma*p_inf*cross_area))"
      ]
    },
    {
      "cell_type": "markdown",
      "id": "ce9d3c1d",
      "metadata": {
        "id": "ce9d3c1d"
      },
      "source": [
        "The following cell interpolates the cell-ceontoid values to the nodes using area-weighted averaging."
      ]
    },
    {
      "cell_type": "code",
      "execution_count": null,
      "id": "3837a3ed",
      "metadata": {
        "id": "3837a3ed"
      },
      "outputs": [],
      "source": [
        "node_p = np.zeros((len(nodes),1))\n",
        "node_denom = np.zeros((len(nodes),1)) \n",
        "\n",
        "\n",
        "for i in range(0,len(elements),1):\n",
        "    for j in range(0,3,1): # 3 stands for number of vertices representing a triangle\n",
        "        \n",
        "        node_p[elements[i,j]-1] = node_p[elements[i,j]-1] +  (pr[i] * face_ar[i])\n",
        "        \n",
        "        node_denom[elements[i,j]-1] = node_denom[elements[i,j]-1] + face_ar[i]\n",
        "\n",
        "        \n",
        "for i in range(0,len(nodes),1):\n",
        "    \n",
        "    if node_denom[i]==0:\n",
        "        node_denom[i] = 1e-6\n",
        "    \n",
        "    node_p[i] = node_p[i]/node_denom[i]\n",
        "\n"
      ]
    },
    {
      "cell_type": "code",
      "execution_count": null,
      "id": "6ba90520",
      "metadata": {
        "id": "6ba90520"
      },
      "outputs": [],
      "source": [
        "with open('flowfield_paraview.dat','w')as f:\n",
        "    f.writelines('VARIABLES=\"X\",\"Y\",\"Z\",\"PR\"')\n",
        "    f.writelines('\\n')\n",
        "    f.writelines('ZONE N=%d E=%d F=FEPOINT ET=QUADRILATERAL' %(int(Nodes), counter))\n",
        "    f.writelines('\\n')\n",
        "    \n",
        "    for i in range(1,int(Nodes)+1,1):\n",
        "        f.writelines('%f %f %f %f\\n' %(nodes[i-1,0],nodes[i-1,1],nodes[i-1,2],node_p[i-1]))\n",
        "\n",
        "    for i in range(0,counter,1):\n",
        "        f.writelines('%d %d %d %d\\n' %(elements[i-1,0],elements[i-1,1],elements[i-1,2],elements[i-1,2]))"
      ]
    },
    {
      "cell_type": "markdown",
      "id": "6f40514a",
      "metadata": {
        "id": "6f40514a"
      },
      "source": [
        "The above cell will generate the output file containing the pressure flowfield. This can be easibly viewed using open source visualisation tool Paraview. \n",
        "\n",
        "For more information about how to use such local inclination methods for shape optimisation of rocket nose cone  or aeroshells, feel free to read this manuscript:\n",
        "\n",
        "1. Brahmachary, S., Natarajan, G., and Sahoo, N.,\"On Maximum Ballistic Coefficient Axisymmetric Geometries in Hypersonic Flows\". *Journal of Spacecrafts and Rockets*, 2017\n",
        "\n",
        "2. Theisinger, J.E., Braun, R.D., \" Multiobjective Hypersonic Entry Aeroshell Shape Optimization\", *AIAA 2008-5873*, 2008\n"
      ]
    },
    {
      "cell_type": "markdown",
      "source": [
        "Part of this code was initially written by Rohitasva Singh Jhala in C++, who worked as a research intern at Indian Institute of Technology Guwahati under prof. Vinayak Kulkarni. This code since then has been re-written in Python with other changes such as evaluation of face normals, cell-node interpolation, etc. "
      ],
      "metadata": {
        "id": "vLVNeMow6_J4"
      },
      "id": "vLVNeMow6_J4"
    }
  ],
  "metadata": {
    "kernelspec": {
      "display_name": "Python 3",
      "language": "python",
      "name": "python3"
    },
    "language_info": {
      "codemirror_mode": {
        "name": "ipython",
        "version": 3
      },
      "file_extension": ".py",
      "mimetype": "text/x-python",
      "name": "python",
      "nbconvert_exporter": "python",
      "pygments_lexer": "ipython3",
      "version": "3.8.10"
    },
    "colab": {
      "name": "Newtonian_3D_body_ver2.ipynb",
      "provenance": [],
      "include_colab_link": true
    }
  },
  "nbformat": 4,
  "nbformat_minor": 5
}
